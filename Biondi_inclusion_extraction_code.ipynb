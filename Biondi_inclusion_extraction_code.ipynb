{
 "cells": [
  {
   "cell_type": "code",
   "execution_count": null,
   "metadata": {},
   "outputs": [],
   "source": [
    "import numpy as np\n",
    "import glob\n",
    "import os\n",
    "import pylab\n",
    "import scipy.misc\n",
    "import skimage\n",
    "from skimage import io\n",
    "from skimage import transform\n",
    "from scipy import ndimage\n",
    "import matplotlib\n",
    "import matplotlib.pyplot as plt"
   ]
  },
  {
   "cell_type": "code",
   "execution_count": null,
   "metadata": {},
   "outputs": [],
   "source": [
    "def get_padded_slices(slices, pad, label):\n",
    "    \n",
    "    new_slices = []\n",
    "    for i,s in enumerate(slices):\n",
    "            \n",
    "        start = s.start\n",
    "        stop = s.stop\n",
    "                \n",
    "        if i == 3:\n",
    "            \n",
    "            # my edits to prevent slicing of the channels\n",
    "            new_start = 0\n",
    "            new_stop = 3\n",
    "            # end of my edits\n",
    "            \n",
    "            #fairly's original code below\n",
    "            #new_slices.append(s)\n",
    "            \n",
    "            # my edited code\n",
    "            new_slices.append(slice(new_start, new_stop))\n",
    "            continue\n",
    "            \n",
    "        if start-pad < 0:\n",
    "            new_start = 0\n",
    "        else:\n",
    "            new_start = start-pad\n",
    "            \n",
    "        if stop+pad > label.shape[i]:\n",
    "            new_stop = label.shape[i]\n",
    "        else:\n",
    "            new_stop = stop+pad\n",
    "            \n",
    "        new_slices.append(slice(new_start, new_stop))\n",
    "        \n",
    "    return tuple(new_slices)"
   ]
  },
  {
   "cell_type": "code",
   "execution_count": null,
   "metadata": {},
   "outputs": [],
   "source": [
    "def label_mask(mask):\n",
    "    \n",
    "    label, n = ndimage.label(mask)\n",
    "    return label, n"
   ]
  },
  {
   "cell_type": "code",
   "execution_count": null,
   "metadata": {},
   "outputs": [],
   "source": [
    "def load_mask(mask_file):\n",
    "    \n",
    "    mask = io.imread(mask_file)\n",
    "    return mask"
   ]
  },
  {
   "cell_type": "code",
   "execution_count": null,
   "metadata": {},
   "outputs": [],
   "source": [
    "def load_original_image(image_file):\n",
    "    \n",
    "    original_image = io.imread(image_file)\n",
    "    return original_image"
   ]
  },
  {
   "cell_type": "code",
   "execution_count": null,
   "metadata": {},
   "outputs": [],
   "source": [
    "def crop_image(original_image, new_slices):\n",
    "    \n",
    "    cropped_image = original_image[new_slices]\n",
    "    return cropped_image"
   ]
  },
  {
   "cell_type": "code",
   "execution_count": null,
   "metadata": {},
   "outputs": [],
   "source": [
    "def save_cropped_image(image_file):\n",
    "    \n",
    "    skimage.io.imsave((image_file + str(i)))"
   ]
  },
  {
   "cell_type": "code",
   "execution_count": null,
   "metadata": {},
   "outputs": [],
   "source": [
    "def get_slices(label):\n",
    "    \n",
    "    slices = ndimage.find_objects(label)\n",
    "    return slices"
   ]
  },
  {
   "cell_type": "code",
   "execution_count": null,
   "metadata": {},
   "outputs": [],
   "source": [
    "def extract_inclusions(mask_file, image_file, pad):\n",
    "    \n",
    "    mask = load_mask(mask_file)\n",
    "    original_image = load_original_image(image_file)\n",
    "    label, n = label_mask(mask)\n",
    "    slices = get_slices(label)\n",
    "    \n",
    "    for i in range (0, n):\n",
    "        \n",
    "        new_slices = get_padded_slices(slices[i], pad, label)\n",
    "        cropped_image = original_image[new_slices]\n",
    "        skimage.io.imsave((image_file[:-4] + ' cropped ' + str(i) + '.tif'), cropped_image)\n",
    "        \n",
    "        \n",
    "        \n",
    "        "
   ]
  },
  {
   "cell_type": "code",
   "execution_count": null,
   "metadata": {},
   "outputs": [],
   "source": [
    "def get_64x64x64_cubes(slices, label):\n",
    "    \n",
    "    new_slices = []\n",
    "    for i,s in enumerate(slices):\n",
    "            \n",
    "        start = s.start\n",
    "        stop = s.stop\n",
    "                \n",
    "        if i == 3:\n",
    "            \n",
    "            # my edits to prevent slicing of the channels\n",
    "            new_start = 0\n",
    "            new_stop = 3\n",
    "            # end of my edits\n",
    "            \n",
    "            #fairly's original code below\n",
    "            #new_slices.append(s)\n",
    "            \n",
    "            # my edited code\n",
    "            new_slices.append(slice(new_start, new_stop))\n",
    "            continue\n",
    "            \n",
    "        if round((start + stop)/2)-32 < 0:\n",
    "            break\n",
    "        else:\n",
    "            new_start = round((start + stop)/2) - 32\n",
    "            \n",
    "        if round((start + stop)/2)+32 > label.shape[i]:\n",
    "            break\n",
    "        else:\n",
    "            new_stop = round((start + stop)/2)+32\n",
    "            \n",
    "        new_slices.append(slice(new_start, new_stop))\n",
    "        \n",
    "    return tuple(new_slices)"
   ]
  },
  {
   "cell_type": "code",
   "execution_count": null,
   "metadata": {},
   "outputs": [],
   "source": [
    "def extract_cubed_inclusions(mask_file, image_file):\n",
    "    \n",
    "    mask = load_mask(mask_file)\n",
    "    original_image = load_original_image(image_file)\n",
    "    label, n = label_mask(mask)\n",
    "    slices = get_slices(label)\n",
    "    counter = 0\n",
    "    for i in range (0, n):\n",
    "        \n",
    "        new_slices = get_64x64x64_cubes(slices[i], label)\n",
    "        \n",
    "        if len(new_slices) < 4:\n",
    "            continue\n",
    "        \n",
    "        else:\n",
    "            cropped_image = original_image[new_slices]\n",
    "            skimage.io.imsave((image_file[:-4] + ' cropped ' + str(counter) + '.tif'), cropped_image)\n",
    "            counter+=1\n",
    "    return slices, counter"
   ]
  },
  {
   "cell_type": "code",
   "execution_count": null,
   "metadata": {},
   "outputs": [],
   "source": [
    "def get_padded_slices_v2(slices, pad, label):\n",
    "    \n",
    "    new_slices = []\n",
    "    for i,s in enumerate(slices):\n",
    "            \n",
    "        start = s.start\n",
    "        stop = s.stop\n",
    "                \n",
    "        if i == 3:\n",
    "            \n",
    "            # my edits to prevent slicing of the channels\n",
    "            new_start = 0\n",
    "            new_stop = 3\n",
    "            # end of my edits\n",
    "            \n",
    "            #fairly's original code below\n",
    "            #new_slices.append(s)\n",
    "            \n",
    "            # my edited code\n",
    "            new_slices.append(slice(new_start, new_stop))\n",
    "            continue\n",
    "            \n",
    "        if start-pad < 0:\n",
    "            new_start = 0\n",
    "        else:\n",
    "            new_start = start-pad\n",
    "            \n",
    "        if stop+pad > label.shape[i]:\n",
    "            new_stop = label.shape[i]\n",
    "        else:\n",
    "            new_stop = stop+pad\n",
    "        \n",
    "        if new_stop-new_start > 64:\n",
    "            break\n",
    "        else:\n",
    "            new_slices.append(slice(new_start, new_stop))\n",
    "        \n",
    "    return tuple(new_slices)"
   ]
  },
  {
   "cell_type": "code",
   "execution_count": null,
   "metadata": {},
   "outputs": [],
   "source": [
    "def pad_to_64(cropped_shape, cropped_image):\n",
    "    for i in range(0,3):\n",
    "        if cropped_shape[i] % 2 == 1:\n",
    "            if i == 0:\n",
    "                a = int((64-cropped_shape[i] + 1)/2)\n",
    "                b = a-1\n",
    "            if i == 1:\n",
    "                c = int((64-cropped_shape[i] + 1)/2)\n",
    "                d = c-1\n",
    "            if i == 2:\n",
    "                e = int((64-cropped_shape[i] + 1)/2)\n",
    "                f = e-1\n",
    "        else:\n",
    "            if i == 0:\n",
    "                a = int((64-cropped_shape[i])/2)\n",
    "                b = int((64-cropped_shape[i])/2)\n",
    "            if i == 1:\n",
    "                c = int((64-cropped_shape[i])/2)\n",
    "                d = int((64-cropped_shape[i])/2)\n",
    "            if i == 2:\n",
    "                e = int((64-cropped_shape[i])/2)\n",
    "                f = int((64-cropped_shape[i])/2)\n",
    "                \n",
    "    padded_cropped_image = np.pad(cropped_image,((a,b), (c,d), (e,f), (0, 0)), 'constant')\n",
    "    return padded_cropped_image"
   ]
  },
  {
   "cell_type": "code",
   "execution_count": null,
   "metadata": {},
   "outputs": [],
   "source": [
    "def extract_padded_cropped_inclusions(mask_file, image_file, pad):\n",
    "    \n",
    "    mask = load_mask(mask_file)\n",
    "    original_image = load_original_image(image_file)\n",
    "    label, n = label_mask(mask)\n",
    "    slices = get_slices(label)\n",
    "    counter = 0\n",
    "    for i in range (0, n):\n",
    "        \n",
    "        new_slices = get_padded_slices_v2(slices[i], pad, label)\n",
    "        \n",
    "        if len(new_slices) < 4:\n",
    "            continue\n",
    "        \n",
    "        else:\n",
    "            cropped_image = original_image[new_slices]\n",
    "            cropped_shape = cropped_image.shape\n",
    "            padded_cropped_image = pad_to_64(cropped_shape, cropped_image)        \n",
    "            skimage.io.imsave((image_file[:-4] + ' padded cropped ' + str(counter) + '.tif'), padded_cropped_image)\n",
    "            counter+=1\n",
    "    return slices, counter"
   ]
  },
  {
   "cell_type": "code",
   "execution_count": null,
   "metadata": {},
   "outputs": [],
   "source": [
    "for i in range(0, len(file_listnobuff)):\n",
    "    x = io.imread(file_listnobuff[i])\n",
    "    y = np.max(x, axis=0)\n",
    "    z = y[:, :, ::-1]\n",
    "    z = skimage.exposure.rescale_intensity(z, in_range='uint12')\n",
    "    z = skimage.img_as_ubyte(z)\n",
    "    z = skimage.transform.resize(z, (512,512,3), order=3)\n",
    "    z[:,:,2] = 0\n",
    "    image_file = file_listnobuff[i]\n",
    "    skimage.io.imsave(('zMIP ' + image_file[:-4] + '.tif'), z)"
   ]
  },
  {
   "cell_type": "code",
   "execution_count": null,
   "metadata": {},
   "outputs": [],
   "source": [
    "for i in range(0, len(file_listnobuff)):\n",
    "    x = io.imread(file_listnobuff[i])\n",
    "    y = np.max(x, axis=1)\n",
    "    z = y[:, :, ::-1]\n",
    "    z = skimage.exposure.rescale_intensity(z, in_range='uint12')\n",
    "    z = skimage.img_as_ubyte(z)\n",
    "    z = skimage.transform.resize(z, (512,512,3), order=3)\n",
    "    z[:,:,2] = 0\n",
    "    image_file = file_listnobuff[i]\n",
    "    skimage.io.imsave(('yMIP ' + image_file[:-4] + '.tif'), z)"
   ]
  },
  {
   "cell_type": "code",
   "execution_count": null,
   "metadata": {},
   "outputs": [],
   "source": [
    "for i in range(0, len(file_listnobuff)):\n",
    "    x = io.imread(file_listnobuff[i])\n",
    "    y = np.max(x, axis=2)\n",
    "    z = y[:, :, ::-1]\n",
    "    z = skimage.exposure.rescale_intensity(z, in_range='uint12')\n",
    "    z = skimage.img_as_ubyte(z)\n",
    "    z = skimage.transform.resize(z, (512,512,3), order=3)\n",
    "    z[:,:,2] = 0\n",
    "    image_file = file_listnobuff[i]\n",
    "    skimage.io.imsave(('xMIP ' + image_file[:-4] + '.tif'), z)"
   ]
  },
  {
   "cell_type": "code",
   "execution_count": 1,
   "metadata": {},
   "outputs": [
    {
     "name": "stdout",
     "output_type": "stream",
     "text": [
      "/home/monuki/Documents/code_repository\n"
     ]
    }
   ],
   "source": [
    "cd /home/monuki/Documents/code_repository"
   ]
  },
  {
   "cell_type": "code",
   "execution_count": 2,
   "metadata": {},
   "outputs": [
    {
     "name": "stdout",
     "output_type": "stream",
     "text": [
      "biondi_classifier_ai_code.ipynb\t\tMIP annotation tool.ipynb\r\n",
      "Biondi_inclusion_extraction_code.ipynb\tUntitled1.ipynb\r\n",
      "Brett_annotation_UCI-43-18.ipynb\tUntitled2.ipynb\r\n",
      "code_repository\t\t\t\tUntitled.ipynb\r\n",
      "Irene_annotation_UCI-43-18.ipynb\tZohaer_annotation_UCI-43-18.ipynb\r\n",
      "MIP annotation tool (copy).ipynb\r\n"
     ]
    }
   ],
   "source": [
    "!ls"
   ]
  },
  {
   "cell_type": "code",
   "execution_count": 3,
   "metadata": {},
   "outputs": [
    {
     "name": "stdout",
     "output_type": "stream",
     "text": [
      "Reinitialized existing Git repository in /home/monuki/Documents/code_repository/.git/\r\n"
     ]
    }
   ],
   "source": [
    "!git init"
   ]
  },
  {
   "cell_type": "code",
   "execution_count": null,
   "metadata": {},
   "outputs": [],
   "source": [
    "!git init add biondi_cl"
   ]
  }
 ],
 "metadata": {
  "kernelspec": {
   "display_name": "Python 3",
   "language": "python",
   "name": "python3"
  },
  "language_info": {
   "codemirror_mode": {
    "name": "ipython",
    "version": 3
   },
   "file_extension": ".py",
   "mimetype": "text/x-python",
   "name": "python",
   "nbconvert_exporter": "python",
   "pygments_lexer": "ipython3",
   "version": "3.5.5"
  }
 },
 "nbformat": 4,
 "nbformat_minor": 2
}
